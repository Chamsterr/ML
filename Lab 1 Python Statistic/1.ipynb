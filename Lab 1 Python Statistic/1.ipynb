{
 "cells": [
  {
   "cell_type": "code",
   "execution_count": 10,
   "metadata": {},
   "outputs": [],
   "source": [
    "import numpy as np"
   ]
  },
  {
   "cell_type": "code",
   "execution_count": 28,
   "metadata": {},
   "outputs": [
    {
     "name": "stdout",
     "output_type": "stream",
     "text": [
      "Исходный массив:\n",
      "[[94 18 53 37 48]\n",
      " [48 83 10 52 23]\n",
      " [ 1  7 23 44 58]\n",
      " [42 39  6 77 28]]\n",
      "\n"
     ]
    }
   ],
   "source": [
    "arr = np.random.randint(0, 100, size=(4, 5))\n",
    "print(f\"Исходный массив:\\n{arr}\\n\")"
   ]
  },
  {
   "cell_type": "code",
   "execution_count": 29,
   "metadata": {},
   "outputs": [
    {
     "name": "stdout",
     "output_type": "stream",
     "text": [
      "Первый массив:\n",
      "[[94 18 53 37 48]\n",
      " [48 83 10 52 23]]\n",
      "\n",
      "Второй массив:\n",
      "[[ 1  7 23 44 58]\n",
      " [42 39  6 77 28]]\n",
      "\n"
     ]
    }
   ],
   "source": [
    "arr1, arr2 = np.split(arr, 2)\n",
    "print(f\"Первый массив:\\n{arr1}\\n\")\n",
    "print(f\"Второй массив:\\n{arr2}\\n\")"
   ]
  },
  {
   "cell_type": "code",
   "execution_count": 32,
   "metadata": {},
   "outputs": [
    {
     "name": "stdout",
     "output_type": "stream",
     "text": [
      "Значения, равные 6, в первом массиве:\n",
      "[[False False False False False]\n",
      " [False False  True False False]]\n",
      "\n"
     ]
    }
   ],
   "source": [
    "values = (arr2 == 6)\n",
    "print(f\"Значения, равные 6, в первом массиве:\\n{values}\\n\")"
   ]
  },
  {
   "cell_type": "code",
   "execution_count": 33,
   "metadata": {},
   "outputs": [
    {
     "name": "stdout",
     "output_type": "stream",
     "text": [
      "Количество найденных элементов: 1\n"
     ]
    }
   ],
   "source": [
    "count = np.sum(values)\n",
    "print(f\"Количество найденных элементов: {count}\")\n"
   ]
  },
  {
   "cell_type": "code",
   "execution_count": null,
   "metadata": {},
   "outputs": [],
   "source": [
    "import pandas as pd\n",
    "import numpy as np"
   ]
  },
  {
   "cell_type": "code",
   "execution_count": 39,
   "metadata": {},
   "outputs": [
    {
     "name": "stdout",
     "output_type": "stream",
     "text": [
      "Объект Series:\n",
      "0    63\n",
      "1    79\n",
      "2    24\n",
      "3    95\n",
      "4    35\n",
      "5     0\n",
      "6    58\n",
      "7    63\n",
      "8    43\n",
      "9     5\n",
      "dtype: int64\n",
      "\n"
     ]
    }
   ],
   "source": [
    "s = pd.Series(np.random.randint(0, 100, size=10))\n",
    "print(f\"Объект Series:\\n{s}\\n\")"
   ]
  },
  {
   "cell_type": "code",
   "execution_count": 16,
   "metadata": {},
   "outputs": [
    {
     "name": "stdout",
     "output_type": "stream",
     "text": [
      "Сумма элементов: 669\n",
      "Среднее значение: 66.9\n",
      "\n"
     ]
    }
   ],
   "source": [
    "\n",
    "print(f\"Сумма элементов: {s.sum()}\")\n",
    "print(f\"Среднее значение: {s.mean()}\\n\")"
   ]
  },
  {
   "cell_type": "code",
   "execution_count": 40,
   "metadata": {},
   "outputs": [
    {
     "name": "stdout",
     "output_type": "stream",
     "text": [
      "Объект Dataframe:\n",
      "    A   B   C   D\n",
      "0  66  16  54  75\n",
      "1  58  28  13  18\n",
      "2   9  47  89  89\n",
      "3  66  53  48  13\n",
      "4  45  72  50  96\n",
      "\n"
     ]
    }
   ],
   "source": [
    "\n",
    "df = pd.DataFrame(np.random.randint(0, 100, size=(5, 4)), columns=list('ABCD'))\n",
    "print(f\"Объект Dataframe:\\n{df}\\n\")"
   ]
  },
  {
   "cell_type": "code",
   "execution_count": 34,
   "metadata": {},
   "outputs": [
    {
     "name": "stdout",
     "output_type": "stream",
     "text": [
      "Dataframe после удаления строки:\n",
      "    A   B   C   D\n",
      "1  27  60  53  22\n",
      "2  96  64   7  45\n",
      "3  52  33  42  42\n",
      "4  93  97  48  55\n",
      "\n"
     ]
    }
   ],
   "source": [
    "df = df.drop(0)\n",
    "print(f\"Dataframe после удаления строки:\\n{df}\\n\")"
   ]
  },
  {
   "cell_type": "code",
   "execution_count": 41,
   "metadata": {},
   "outputs": [
    {
     "name": "stdout",
     "output_type": "stream",
     "text": [
      "Dataframe после удаления столбца:\n",
      "    B   C   D\n",
      "0  16  54  75\n",
      "1  28  13  18\n",
      "2  47  89  89\n",
      "3  53  48  13\n",
      "4  72  50  96\n",
      "\n"
     ]
    }
   ],
   "source": [
    "df = df.drop(columns='A')\n",
    "print(f\"Dataframe после удаления столбца:\\n{df}\\n\")\n"
   ]
  },
  {
   "cell_type": "code",
   "execution_count": 42,
   "metadata": {},
   "outputs": [
    {
     "name": "stdout",
     "output_type": "stream",
     "text": [
      "Размер Dataframe: (5, 3)\n",
      "\n"
     ]
    }
   ],
   "source": [
    "print(f\"Размер Dataframe: {df.shape}\\n\")"
   ]
  },
  {
   "cell_type": "code",
   "execution_count": 43,
   "metadata": {},
   "outputs": [
    {
     "name": "stdout",
     "output_type": "stream",
     "text": [
      "Элементы, равные 6:\n",
      "       B      C      D\n",
      "0  False  False  False\n",
      "1  False  False  False\n",
      "2  False  False  False\n",
      "3  False  False  False\n",
      "4  False  False  False\n",
      "\n"
     ]
    }
   ],
   "source": [
    "\n",
    "values = (df == 6)\n",
    "print(f\"Элементы, равные 6:\\n{values}\\n\")"
   ]
  },
  {
   "cell_type": "code",
   "execution_count": 9,
   "metadata": {},
   "outputs": [
    {
     "name": "stdout",
     "output_type": "stream",
     "text": [
      "Объект Series:\n",
      "0    79\n",
      "1    99\n",
      "2    65\n",
      "3    63\n",
      "4    20\n",
      "5    44\n",
      "6    84\n",
      "7     6\n",
      "8    35\n",
      "9    97\n",
      "dtype: int64\n",
      "\n",
      "Сумма элементов: 592\n",
      "Среднее значение: 59.2\n",
      "\n",
      "Объект Dataframe:\n",
      "    A   B   C   D\n",
      "0  34  21  10   0\n",
      "1   3  69  81  20\n",
      "2  94  72  13  99\n",
      "3  53   9   1  48\n",
      "4  98   3  41  24\n",
      "\n",
      "Dataframe после удаления строки:\n",
      "    A   B   C   D\n",
      "1   3  69  81  20\n",
      "2  94  72  13  99\n",
      "3  53   9   1  48\n",
      "4  98   3  41  24\n",
      "\n",
      "Dataframe после удаления столбца:\n",
      "    B   C   D\n",
      "1  69  81  20\n",
      "2  72  13  99\n",
      "3   9   1  48\n",
      "4   3  41  24\n",
      "\n",
      "Размер Dataframe: (4, 3)\n",
      "\n",
      "Элементы, равные 6:\n",
      "       B      C      D\n",
      "1  False  False  False\n",
      "2  False  False  False\n",
      "3  False  False  False\n",
      "4  False  False  False\n",
      "\n"
     ]
    }
   ],
   "source": []
  }
 ],
 "metadata": {
  "kernelspec": {
   "display_name": "Python 3",
   "language": "python",
   "name": "python3"
  },
  "language_info": {
   "codemirror_mode": {
    "name": "ipython",
    "version": 3
   },
   "file_extension": ".py",
   "mimetype": "text/x-python",
   "name": "python",
   "nbconvert_exporter": "python",
   "pygments_lexer": "ipython3",
   "version": "3.10.12"
  }
 },
 "nbformat": 4,
 "nbformat_minor": 2
}
